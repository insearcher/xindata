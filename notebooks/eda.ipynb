{
 "cells": [
  {
   "cell_type": "markdown",
   "metadata": {},
   "source": [
    "# Exploratory Data Analysis - Freelancer Earnings Dataset\n",
    "\n",
    "В этом ноутбуке проведем первичный анализ данных о доходах фрилансеров."
   ]
  },
  {
   "cell_type": "code",
   "execution_count": null,
   "metadata": {},
   "source": [
    "import pandas as pd\n",
    "import numpy as np\n",
    "import matplotlib.pyplot as plt\n",
    "import seaborn as sns\n",
    "\n",
    "%matplotlib inline\n",
    "sns.set_style('whitegrid')"
   ]
  },
  {
   "cell_type": "markdown",
   "metadata": {},
   "source": [
    "## Загрузка данных"
   ]
  },
  {
   "cell_type": "code",
   "execution_count": null,
   "metadata": {},
   "source": [
    "# Загрузка данных\n",
    "df = pd.read_csv('../data/freelancer_earnings_bd.csv')\n",
    "print(f\"Dataset shape: {df.shape}\")"
   ]
  },
  {
   "cell_type": "markdown",
   "metadata": {},
   "source": [
    "## Базовая информация о данных"
   ]
  },
  {
   "cell_type": "code",
   "execution_count": null,
   "metadata": {},
   "source": [
    "# Просмотр первых нескольких строк\n",
    "df.head()"
   ]
  },
  {
   "cell_type": "code",
   "execution_count": null,
   "metadata": {},
   "source": [
    "# Информация о типах данных и пропущенных значениях\n",
    "df.info()"
   ]
  },
  {
   "cell_type": "code",
   "execution_count": null,
   "metadata": {},
   "source": [
    "# Базовые статистики числовых колонок\n",
    "df.describe()"
   ]
  },
  {
   "cell_type": "markdown",
   "metadata": {},
   "source": [
    "## Анализ каждой колонки"
   ]
  },
  {
   "cell_type": "code",
   "execution_count": null,
   "metadata": {},
   "source": [
    "# Анализ категориальных переменных\n",
    "print(\"Job_Category:\")\n",
    "print(df['Job_Category'].value_counts())\n",
    "print(\"\\nPlatform:\")\n",
    "print(df['Platform'].value_counts())\n",
    "print(\"\\nExperience_Level:\")\n",
    "print(df['Experience_Level'].value_counts())\n",
    "print(\"\\nClient_Region:\")\n",
    "print(df['Client_Region'].value_counts())\n",
    "print(\"\\nPayment_Method:\")\n",
    "print(df['Payment_Method'].value_counts())\n",
    "print(\"\\nProject_Type:\")\n",
    "print(df['Project_Type'].value_counts())"
   ]
  },
  {
   "cell_type": "code",
   "execution_count": null,
   "metadata": {},
   "source": [
    "# Проверка пропущенных значений\n",
    "print(\"Missing values per column:\")\n",
    "print(df.isnull().sum())"
   ]
  },
  {
   "cell_type": "markdown",
   "metadata": {},
   "source": [
    "## Визуализация распределений"
   ]
  },
  {
   "cell_type": "code",
   "execution_count": null,
   "metadata": {},
   "source": [
    "# Распределение Earnings_USD\n",
    "plt.figure(figsize=(10, 6))\n",
    "sns.histplot(df['Earnings_USD'], kde=True)\n",
    "plt.title('Distribution of Freelancer Earnings (USD)')\n",
    "plt.xlabel('Earnings (USD)')\n",
    "plt.ylabel('Count')\n",
    "plt.show()"
   ]
  },
  {
   "cell_type": "code",
   "execution_count": null,
   "metadata": {},
   "source": [
    "# Распределение Hourly_Rate\n",
    "plt.figure(figsize=(10, 6))\n",
    "sns.histplot(df['Hourly_Rate'], kde=True)\n",
    "plt.title('Distribution of Hourly Rates')\n",
    "plt.xlabel('Hourly Rate (USD)')\n",
    "plt.ylabel('Count')\n",
    "plt.show()"
   ]
  },
  {
   "cell_type": "code",
   "execution_count": null,
   "metadata": {},
   "source": [
    "# Распределение Job_Completed\n",
    "plt.figure(figsize=(10, 6))\n",
    "sns.histplot(df['Job_Completed'], kde=True)\n",
    "plt.title('Distribution of Jobs Completed')\n",
    "plt.xlabel('Number of Jobs')\n",
    "plt.ylabel('Count')\n",
    "plt.show()"
   ]
  },
  {
   "cell_type": "markdown",
   "metadata": {},
   "source": [
    "## Анализ взаимосвязей между переменными"
   ]
  },
  {
   "cell_type": "code",
   "execution_count": null,
   "metadata": {},
   "source": [
    "# Корреляционная матрица числовых переменных\n",
    "numeric_df = df.select_dtypes(include=[np.number])\n",
    "corr = numeric_df.corr()\n",
    "\n",
    "plt.figure(figsize=(12, 10))\n",
    "sns.heatmap(corr, annot=True, cmap='coolwarm', fmt='.2f')\n",
    "plt.title('Correlation Matrix of Numeric Variables')\n",
    "plt.show()"
   ]
  },
  {
   "cell_type": "code",
   "execution_count": null,
   "metadata": {},
   "source": [
    "# Средний доход по методам оплаты\n",
    "plt.figure(figsize=(10, 6))\n",
    "sns.barplot(x='Payment_Method', y='Earnings_USD', data=df)\n",
    "plt.title('Average Earnings by Payment Method')\n",
    "plt.xlabel('Payment Method')\n",
    "plt.ylabel('Average Earnings (USD)')\n",
    "plt.xticks(rotation=45)\n",
    "plt.show()"
   ]
  },
  {
   "cell_type": "code",
   "execution_count": null,
   "metadata": {},
   "source": [
    "# Средний доход по регионам клиентов\n",
    "plt.figure(figsize=(12, 6))\n",
    "sns.barplot(x='Client_Region', y='Earnings_USD', data=df)\n",
    "plt.title('Average Earnings by Client Region')\n",
    "plt.xlabel('Client Region')\n",
    "plt.ylabel('Average Earnings (USD)')\n",
    "plt.xticks(rotation=45)\n",
    "plt.show()"
   ]
  },
  {
   "cell_type": "code",
   "execution_count": null,
   "metadata": {},
   "source": [
    "# Средний доход по уровню опыта\n",
    "plt.figure(figsize=(10, 6))\n",
    "sns.barplot(x='Experience_Level', y='Earnings_USD', data=df)\n",
    "plt.title('Average Earnings by Experience Level')\n",
    "plt.xlabel('Experience Level')\n",
    "plt.ylabel('Average Earnings (USD)')\n",
    "plt.show()"
   ]
  },
  {
   "cell_type": "markdown",
   "metadata": {},
   "source": [
    "## Анализ данных для примеров из задания"
   ]
  },
  {
   "cell_type": "code",
   "execution_count": null,
   "metadata": {},
   "source": [
    "# 1. Насколько выше доход у фрилансеров, принимающих оплату в криптовалюте, по сравнению с другими способами оплаты?\n",
    "crypto_earnings = df[df['Payment_Method'] == 'Cryptocurrency']['Earnings_USD'].mean()\n",
    "other_earnings = df[df['Payment_Method'] != 'Cryptocurrency']['Earnings_USD'].mean()\n",
    "difference = crypto_earnings - other_earnings\n",
    "percentage = (difference / other_earnings) * 100\n",
    "\n",
    "print(f\"Средний доход фрилансеров, принимающих оплату в криптовалюте: ${crypto_earnings:.2f}\")\n",
    "print(f\"Средний доход фрилансеров, использующих другие способы оплаты: ${other_earnings:.2f}\")\n",
    "print(f\"Разница: ${difference:.2f} ({percentage:.2f}%)\")"
   ]
  },
  {
   "cell_type": "code",
   "execution_count": null,
   "metadata": {},
   "source": [
    "# 2. Как распределяется доход фрилансеров в зависимости от региона проживания?\n",
    "region_earnings = df.groupby('Client_Region')['Earnings_USD'].agg(['mean', 'median', 'std', 'count']).reset_index()\n",
    "region_earnings = region_earnings.sort_values(by='mean', ascending=False)\n",
    "region_earnings"
   ]
  },
  {
   "cell_type": "code",
   "execution_count": null,
   "metadata": {},
   "source": [
    "# 3. Какой процент фрилансеров, считающих себя экспертами, выполнил менее 100 проектов?\n",
    "experts = df[df['Experience_Level'] == 'Expert']\n",
    "experts_less_than_100 = experts[experts['Job_Completed'] < 100]\n",
    "percentage = (len(experts_less_than_100) / len(experts)) * 100\n",
    "\n",
    "print(f\"Всего экспертов: {len(experts)}\")\n",
    "print(f\"Экспертов с менее чем 100 проектами: {len(experts_less_than_100)}\")\n",
    "print(f\"Процент: {percentage:.2f}%\")"
   ]
  },
  {
   "cell_type": "markdown",
   "metadata": {},
   "source": [
    "## Схема данных (для использования в промпте LLM)"
   ]
  },
  {
   "cell_type": "code",
   "execution_count": null,
   "metadata": {},
   "source": [
    "# Получение схемы данных для использования в промпте\n",
    "schema = []\n",
    "for col in df.columns:\n",
    "    dtype = str(df[col].dtype)\n",
    "    unique_values = None\n",
    "    \n",
    "    if df[col].dtype == 'object':\n",
    "        unique_values = df[col].unique().tolist()\n",
    "        if len(unique_values) > 10:  # Если слишком много уникальных значений\n",
    "            unique_values = f\"{len(unique_values)} уникальных значений\"\n",
    "    \n",
    "    schema.append({\n",
    "        'name': col,\n",
    "        'type': dtype,\n",
    "        'unique_values': unique_values\n",
    "    })\n",
    "\n",
    "for item in schema:\n",
    "    print(f\"{item['name']} ({item['type']})\")\n",
    "    if item['unique_values'] is not None and isinstance(item['unique_values'], list):\n",
    "        print(f\"  Unique values: {', '.join(map(str, item['unique_values']))}\")\n",
    "    elif item['unique_values'] is not None:\n",
    "        print(f\"  {item['unique_values']}\")\n",
    "    print()"
   ]
  }
 ],
 "metadata": {
  "kernelspec": {
   "display_name": "Python 3",
   "language": "python",
   "name": "python3"
  },
  "language_info": {
   "codemirror_mode": {
    "name": "ipython",
    "version": 3
   },
   "file_extension": ".py",
   "mimetype": "text/x-python",
   "name": "python",
   "nbconvert_exporter": "python",
   "pygments_lexer": "ipython3",
   "version": "3.9.5"
  }
 },
 "nbformat": 4,
 "nbformat_minor": 4
}
